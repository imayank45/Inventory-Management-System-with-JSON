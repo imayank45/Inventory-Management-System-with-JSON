{
 "cells": [
  {
   "cell_type": "code",
   "execution_count": 49,
   "id": "f813cd0c",
   "metadata": {},
   "outputs": [],
   "source": [
    "record = {101 : {'Name' : '5 Star'     , 'Price' : 10, 'Qn' : 100},\n",
    "        102: {'Name' : 'Munch'      , 'Price' : 20, 'Qn' : 200},\n",
    "        103: {'Name' : 'Kitkat'     , 'Price' : 45, 'Qn' : 140},\n",
    "        104: {'Name' : 'Diary Milk' , 'Price' : 5,  'Qn' : 250},\n",
    "        105: {'Name' : 'Mentos'     , 'Price' : 1,  'Qn' : 550}}"
   ]
  },
  {
   "cell_type": "code",
   "execution_count": 20,
   "id": "e119ded5",
   "metadata": {},
   "outputs": [
    {
     "data": {
      "text/plain": [
       "{'Name': 'Munch', 'Price': 20, 'Qn': 200}"
      ]
     },
     "execution_count": 20,
     "metadata": {},
     "output_type": "execute_result"
    }
   ],
   "source": [
    "record[102]"
   ]
  },
  {
   "cell_type": "code",
   "execution_count": 21,
   "id": "28f911e8",
   "metadata": {},
   "outputs": [
    {
     "name": "stdout",
     "output_type": "stream",
     "text": [
      "101\n",
      "102\n",
      "103\n",
      "104\n",
      "105\n"
     ]
    }
   ],
   "source": [
    "for key in record.keys():\n",
    "    print(key)"
   ]
  },
  {
   "cell_type": "code",
   "execution_count": 22,
   "id": "5a50a1fa",
   "metadata": {},
   "outputs": [
    {
     "name": "stdout",
     "output_type": "stream",
     "text": [
      "{'Name': '5 Star', 'Price': 10, 'Qn': 100}\n",
      "{'Name': 'Munch', 'Price': 20, 'Qn': 200}\n",
      "{'Name': 'Kitkat', 'Price': 45, 'Qn': 140}\n",
      "{'Name': 'Diary Milk', 'Price': 5, 'Qn': 250}\n",
      "{'Name': 'Mentos', 'Price': 1, 'Qn': 550}\n"
     ]
    }
   ],
   "source": [
    "for key in record.keys():\n",
    "    print(record[key])"
   ]
  },
  {
   "cell_type": "code",
   "execution_count": 23,
   "id": "55e2a90b",
   "metadata": {},
   "outputs": [
    {
     "name": "stdout",
     "output_type": "stream",
     "text": [
      "------------MENU------------\n",
      "\n",
      "101 : 5 Star | 10 | 100\n",
      "102 : Munch | 20 | 200\n",
      "103 : Kitkat | 45 | 140\n",
      "104 : Diary Milk | 5 | 250\n",
      "105 : Mentos | 1 | 550\n",
      "----------------------------\n"
     ]
    }
   ],
   "source": [
    "print('------------MENU------------\\n')\n",
    "for key in record.keys():\n",
    "    print(key,':',record[key]['Name'],'|',record[key]['Price'],'|',record[key]['Qn'])\n",
    "print('----------------------------')"
   ]
  },
  {
   "cell_type": "markdown",
   "id": "29730e52",
   "metadata": {},
   "source": [
    "## Generating Bill "
   ]
  },
  {
   "cell_type": "code",
   "execution_count": 31,
   "id": "ed3272dc",
   "metadata": {},
   "outputs": [
    {
     "name": "stdout",
     "output_type": "stream",
     "text": [
      "------------MENU------------\n",
      "\n",
      "101 : 5 Star | 10 | 100\n",
      "102 : Munch | 20 | 200\n",
      "103 : Kitkat | 45 | 140\n",
      "104 : Diary Milk | 5 | 250\n",
      "105 : Mentos | 1 | 550\n",
      "----------------------------\n",
      "\n",
      "Enter Product ID : 104\n",
      "Enter Quantity   : 50\n",
      "----------------------------\n",
      "\n",
      "            BILL             \n",
      "\n",
      "Name            :  Diary Milk\n",
      "Price (Rs)      :  5 Rs\n",
      "Quantity        :  50\n",
      "----------------------------\n",
      "Billing Amount  :  250 Rs\n"
     ]
    }
   ],
   "source": [
    "print('------------MENU------------\\n')\n",
    "for key in record.keys():\n",
    "    print(key,':',record[key]['Name'],'|',record[key]['Price'],'|',record[key]['Qn'])\n",
    "print('----------------------------\\n')\n",
    "\n",
    "ui_pi = int(input('Enter Product ID : '))\n",
    "ui_qn = int(input('Enter Quantity   : '))\n",
    "print('----------------------------')\n",
    "print('\\n            BILL             \\n')\n",
    "print('Name            : ',record[ui_pi]['Name'])\n",
    "print('Price (Rs)      : ',record[ui_pi]['Price'],'Rs')\n",
    "print('Quantity        : ',ui_qn)\n",
    "print('----------------------------')\n",
    "print('Billing Amount  : ',ui_qn*record[ui_pi]['Price'],'Rs')"
   ]
  },
  {
   "cell_type": "markdown",
   "id": "e9f65846",
   "metadata": {},
   "source": [
    "## Updating Inventory"
   ]
  },
  {
   "cell_type": "code",
   "execution_count": 16,
   "id": "cb7d386c",
   "metadata": {},
   "outputs": [
    {
     "name": "stdout",
     "output_type": "stream",
     "text": [
      "------------MENU------------\n",
      "\n",
      "101 : 5 Star | 10 | 100\n",
      "102 : Munch | 20 | 34\n",
      "103 : Kitkat | 45 | 140\n",
      "104 : Diary Milk | 5 | 250\n",
      "105 : Mentos | 1 | 550\n",
      "----------------------------\n",
      "\n",
      "Enter Product ID : 105\n",
      "Enter Quantity   : 500\n",
      "----------------------------\n",
      "\n",
      "            BILL             \n",
      "\n",
      "Name            :  Mentos\n",
      "Price (Rs)      :  1 Rs\n",
      "Quantity        :  500\n",
      "----------------------------\n",
      "Billing Amount  :  500 Rs\n"
     ]
    }
   ],
   "source": [
    "import json\n",
    "\n",
    "fd=open('Records.json','r')\n",
    "js = fd.read()\n",
    "fd.close()\n",
    "\n",
    "records = json.loads(js)\n",
    "\n",
    "print('------------MENU------------\\n')\n",
    "for key in record.keys():\n",
    "    print(key,':',record[key]['Name'],'|',record[key]['Price'],'|',record[key]['Qn'])\n",
    "print('----------------------------\\n')\n",
    "\n",
    "ui_pi = int(input('Enter Product ID : '))\n",
    "ui_qn = int(input('Enter Quantity   : '))\n",
    "record[ui_pi]['Qn'] = record[ui_pi]['Qn'] - ui_qn\n",
    "print('----------------------------')\n",
    "print('\\n            BILL             \\n')\n",
    "print('Name            : ',record[ui_pi]['Name'])\n",
    "print('Price (Rs)      : ',record[ui_pi]['Price'],'Rs')\n",
    "print('Quantity        : ',ui_qn)\n",
    "print('----------------------------')\n",
    "print('Billing Amount  : ',ui_qn*record[ui_pi]['Price'],'Rs')\n",
    "\n",
    "js = json.dumps(record)\n",
    "\n",
    "fd = open('Records.json','w')\n",
    "fd.write(js)\n",
    "fd.close()"
   ]
  },
  {
   "cell_type": "code",
   "execution_count": 8,
   "id": "7266f01f",
   "metadata": {},
   "outputs": [
    {
     "data": {
      "text/plain": [
       "'{\"101\": {\"Name\": \"5 Star\", \"Price\": 10, \"Qn\": 100}, \"102\": {\"Name\": \"Munch\", \"Price\": 20, \"Qn\": 178}, \"103\": {\"Name\": \"Kitkat\", \"Price\": 45, \"Qn\": 140}, \"104\": {\"Name\": \"Diary Milk\", \"Price\": 5, \"Qn\": 250}, \"105\": {\"Name\": \"Mentos\", \"Price\": 1, \"Qn\": 550}}'"
      ]
     },
     "execution_count": 8,
     "metadata": {},
     "output_type": "execute_result"
    }
   ],
   "source": [
    "js"
   ]
  },
  {
   "cell_type": "code",
   "execution_count": 9,
   "id": "c1a68f4f",
   "metadata": {},
   "outputs": [
    {
     "data": {
      "text/plain": [
       "{'101': {'Name': '5 Star', 'Price': 10, 'Qn': 100},\n",
       " '102': {'Name': 'Munch', 'Price': 20, 'Qn': 178},\n",
       " '103': {'Name': 'Kitkat', 'Price': 45, 'Qn': 140},\n",
       " '104': {'Name': 'Diary Milk', 'Price': 5, 'Qn': 250},\n",
       " '105': {'Name': 'Mentos', 'Price': 1, 'Qn': 550}}"
      ]
     },
     "execution_count": 9,
     "metadata": {},
     "output_type": "execute_result"
    }
   ],
   "source": [
    "json.loads(js)"
   ]
  },
  {
   "cell_type": "markdown",
   "id": "774f7291",
   "metadata": {},
   "source": [
    "## Adding Functionalities"
   ]
  },
  {
   "cell_type": "code",
   "execution_count": 23,
   "id": "f66c9d5e",
   "metadata": {},
   "outputs": [
    {
     "name": "stdout",
     "output_type": "stream",
     "text": [
      "------------MENU------------\n",
      "\n",
      "101 : 5 Star | 10 | 100\n",
      "102 : Munch | 20 | 0\n",
      "103 : Kitkat | 45 | 140\n",
      "104 : Diary Milk | 5 | 250\n",
      "105 : Mentos | 1 | 50\n",
      "----------------------------\n",
      "\n",
      "Enter Product ID : 104\n",
      "Enter Quantity   : 888\n",
      "Sorry we are not having enough quantity in our inventory.\n",
      "We are only having 250 quantity,\n",
      "----------------------------\n",
      "Press Y/y to purchase : n\n",
      "\n",
      "---------THANK YOU----------\n"
     ]
    }
   ],
   "source": [
    "import json\n",
    "\n",
    "fd=open('Records.json','r')\n",
    "js = fd.read()\n",
    "fd.close()\n",
    "\n",
    "records = json.loads(js)\n",
    "\n",
    "print('------------MENU------------\\n')\n",
    "for key in record.keys():\n",
    "    print(key,':',record[key]['Name'],'|',record[key]['Price'],'|',record[key]['Qn'])\n",
    "print('----------------------------\\n')\n",
    "\n",
    "ui_pi = int(input('Enter Product ID : '))\n",
    "ui_qn = int(input('Enter Quantity   : '))\n",
    "\n",
    "\n",
    "if record[ui_pi]['Qn']>=ui_qn:\n",
    "\n",
    "    record[ui_pi]['Qn'] = record[ui_pi]['Qn'] - ui_qn\n",
    "    print('----------------------------')\n",
    "    print('\\n            BILL             \\n')\n",
    "    print('Name            : ',record[ui_pi]['Name'])\n",
    "    print('Price (Rs)      : ',record[ui_pi]['Price'],'Rs')\n",
    "    print('Quantity        : ',ui_qn)\n",
    "    print('----------------------------')\n",
    "    print('Billing Amount  : ',ui_qn*record[ui_pi]['Price'],'Rs')\n",
    "\n",
    "else:\n",
    "    print('Sorry we are not having enough quantity in our inventory.')\n",
    "    print('We are only having',record[ui_pi]['Qn'],'quantity,')\n",
    "    print('----------------------------')\n",
    "    ch = input('Press Y/y to purchase : ')\n",
    "    if ch == 'Y' or ch == 'y':\n",
    "        print('----------------------------')\n",
    "        print('\\n            BILL             \\n')\n",
    "        print('Name            : ',record[ui_pi]['Name'])\n",
    "        print('Price (Rs)      : ',record[ui_pi]['Price'],'Rs')\n",
    "        print('Quantity        : ',record[ui_pi]['Qn'])\n",
    "        print('----------------------------')\n",
    "        print('Billing Amount  : ',ui_qn*record[ui_pi]['Price'],'Rs')\n",
    "        record[ui_pi]['Qn'] = 0\n",
    "    else:\n",
    "        print('\\n---------THANK YOU----------')\n",
    "js = json.dumps(record)\n",
    "\n",
    "fd = open('Records.json','w')\n",
    "fd.write(js)\n",
    "fd.close()"
   ]
  },
  {
   "cell_type": "markdown",
   "id": "6af6b276",
   "metadata": {},
   "source": [
    "## Generating Sales Structure"
   ]
  },
  {
   "cell_type": "code",
   "execution_count": 47,
   "id": "8a0f8672",
   "metadata": {},
   "outputs": [
    {
     "name": "stdout",
     "output_type": "stream",
     "text": [
      "------------MENU------------\n",
      "\n",
      "101 : 5 Star | 10 | 78\n",
      "102 : Munch | 20 | 0\n",
      "103 : Kitkat | 45 | 135\n",
      "104 : Diary Milk | 5 | 173\n",
      "105 : Mentos | 1 | 50\n",
      "----------------------------\n",
      "\n",
      "Enter your name : mayank\n",
      "Enter your mobile number890497823\n",
      "Enter Product ID : 104\n",
      "Enter Quantity   : 40\n",
      "----------------------------\n",
      "\n",
      "            BILL             \n",
      "\n",
      "Name            :  Diary Milk\n",
      "Price (Rs)      :  5 Rs\n",
      "Quantity        :  40\n",
      "----------------------------\n",
      "Billing Amount  :  200 Rs\n"
     ]
    }
   ],
   "source": [
    "import json\n",
    "import time\n",
    "fd=open('Records.json','r')\n",
    "js = fd.read()\n",
    "fd.close()\n",
    "\n",
    "records = json.loads(js)\n",
    "\n",
    "print('------------MENU------------\\n')\n",
    "for key in record.keys():\n",
    "    print(key,':',record[key]['Name'],'|',record[key]['Price'],'|',record[key]['Qn'])\n",
    "print('----------------------------\\n')\n",
    "ui_name  =   input('Enter your name : ')\n",
    "ui_phone =   input('Enter your mobile number')\n",
    "ui_pi    =   int(input('Enter Product ID : '))\n",
    "ui_qn    =   int(input('Enter Quantity   : '))\n",
    "\n",
    "\n",
    "if record[ui_pi]['Qn']>=ui_qn:\n",
    "\n",
    "    record[ui_pi]['Qn'] = record[ui_pi]['Qn'] - ui_qn\n",
    "    print('----------------------------')\n",
    "    print('\\n            BILL             \\n')\n",
    "    print('Name            : ',record[ui_pi]['Name'])\n",
    "    print('Price (Rs)      : ',record[ui_pi]['Price'],'Rs')\n",
    "    print('Quantity        : ',ui_qn)\n",
    "    print('----------------------------')\n",
    "    print('Billing Amount  : ',ui_qn*record[ui_pi]['Price'],'Rs')\n",
    "    sale =   ui_name + ',' + ui_phone + ',' + str(ui_pi) + ',' + str(record[ui_pi]['Name']) + ',' + str(ui_qn) + ',' + str(record[ui_pi]['Price']) +',' + str(ui_qn*record[ui_pi]['Price']) + ',' +str(time.ctime()) + '\\n'\n",
    "else:\n",
    "    print('Sorry we are not having enough quantity in our inventory.')\n",
    "    print('We are only having',record[ui_pi]['Qn'],'quantity,')\n",
    "    print('----------------------------')\n",
    "    ch = input('Press Y/y to purchase : ')\n",
    "    if ch == 'Y' or ch == 'y':\n",
    "        print('----------------------------')\n",
    "        print('\\n            BILL             \\n')\n",
    "        print('Name            : ',record[ui_pi]['Name'])\n",
    "        print('Price (Rs)      : ',record[ui_pi]['Price'],'Rs')\n",
    "        print('Quantity        : ',record[ui_pi]['Qn'])\n",
    "        print('----------------------------')\n",
    "        print('Billing Amount  : ',ui_qn*record[ui_pi]['Price'],'Rs')\n",
    "        record[ui_pi]['Qn'] = 0\n",
    "        sale =   ui_name + ',' + ui_phone + ',' + str(ui_pi) + ',' + str(record[ui_pi]['Name']) + ',' + str(record[ui_pi]['Qn']) + ',' + str(record[ui_pi]['Price']) +',' + str(record[ui_pi]['Qn']*record[ui_pi]['Price']) + ',' +str(time.ctime()) + '\\n'\n",
    "    else:\n",
    "        print('\\n---------THANK YOU----------')\n",
    "\n",
    "js = json.dumps(record)        \n",
    "\n",
    "fd = open('Records.json','w')\n",
    "fd.write(js)\n",
    "fd.close()\n",
    "\n",
    "fd=open('Sales.txt','a')\n",
    "fd.write(sale)\n",
    "fd.close()"
   ]
  },
  {
   "cell_type": "code",
   "execution_count": null,
   "id": "4be69e1b",
   "metadata": {},
   "outputs": [],
   "source": []
  }
 ],
 "metadata": {
  "kernelspec": {
   "display_name": "Python 3 (ipykernel)",
   "language": "python",
   "name": "python3"
  },
  "language_info": {
   "codemirror_mode": {
    "name": "ipython",
    "version": 3
   },
   "file_extension": ".py",
   "mimetype": "text/x-python",
   "name": "python",
   "nbconvert_exporter": "python",
   "pygments_lexer": "ipython3",
   "version": "3.9.13"
  }
 },
 "nbformat": 4,
 "nbformat_minor": 5
}
